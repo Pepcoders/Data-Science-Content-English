{
  "nbformat": 4,
  "nbformat_minor": 0,
  "metadata": {
    "colab": {
      "name": "Loops_English.ipynb",
      "provenance": [],
      "authorship_tag": "ABX9TyOnM1ro4wXLrD2HCJp60RlA",
      "include_colab_link": true
    },
    "kernelspec": {
      "name": "python3",
      "display_name": "Python 3"
    },
    "language_info": {
      "name": "python"
    }
  },
  "cells": [
    {
      "cell_type": "markdown",
      "metadata": {
        "id": "view-in-github",
        "colab_type": "text"
      },
      "source": [
        "<a href=\"https://colab.research.google.com/github/Pepcoders/Data-Science-Content-English/blob/Python%2FRitikRamuka/Loops_English.ipynb\" target=\"_parent\"><img src=\"https://colab.research.google.com/assets/colab-badge.svg\" alt=\"Open In Colab\"/></a>"
      ]
    },
    {
      "cell_type": "code",
      "execution_count": 1,
      "metadata": {
        "id": "WQxvIzKoAVtJ"
      },
      "outputs": [],
      "source": [
        "# loops"
      ]
    },
    {
      "cell_type": "code",
      "source": [
        "# while loop\n",
        "\n",
        "print(\"Hard code method! \\n\")\n",
        "\n",
        "print(\"Hello Pepcoding\")\n",
        "print(\"Hello Pepcoding\")\n",
        "print(\"Hello Pepcoding\")\n",
        "print(\"Hello Pepcoding\")\n",
        "print(\"Hello Pepcoding\")\n",
        "\n",
        "print(\"\\n\\n\")\n",
        "\n",
        "print(\"While loop method! \\n\")\n",
        "\n",
        "i = 1\n",
        "while i <= 5 :\n",
        "  print(\"Hello Pepcoding\")\n",
        "  i += 1"
      ],
      "metadata": {
        "colab": {
          "base_uri": "https://localhost:8080/"
        },
        "id": "ztdRwAO2AgPz",
        "outputId": "a0f4dd8a-2ddd-474b-a730-0fd8f6fd225a"
      },
      "execution_count": 5,
      "outputs": [
        {
          "output_type": "stream",
          "name": "stdout",
          "text": [
            "Hard code method! \n",
            "\n",
            "Hello Pepcoding\n",
            "Hello Pepcoding\n",
            "Hello Pepcoding\n",
            "Hello Pepcoding\n",
            "Hello Pepcoding\n",
            "\n",
            "\n",
            "\n",
            "While loop method! \n",
            "\n",
            "Hello Pepcoding\n",
            "Hello Pepcoding\n",
            "Hello Pepcoding\n",
            "Hello Pepcoding\n",
            "Hello Pepcoding\n"
          ]
        }
      ]
    },
    {
      "cell_type": "code",
      "source": [
        "# break and continue keyword\n",
        "\n",
        "i = 1\n",
        "while i <= 5 :\n",
        "  if i == 3 :\n",
        "    break\n",
        "  print(\"Hello Pepcoding : \", i)\n",
        "  i += 1\n",
        "\n",
        "print(\"\\n\")\n",
        "\n",
        "i = 1\n",
        "while i <= 5 :\n",
        "  if i == 3 :\n",
        "    i += 1\n",
        "    continue\n",
        "  print(\"Hello Pepcoding : \", i)\n",
        "  i += 1"
      ],
      "metadata": {
        "colab": {
          "base_uri": "https://localhost:8080/"
        },
        "id": "Gp9qIS9yDro2",
        "outputId": "130a025f-8638-4e47-bb80-1437be18931d"
      },
      "execution_count": 13,
      "outputs": [
        {
          "output_type": "stream",
          "name": "stdout",
          "text": [
            "Hello Pepcoding :  1\n",
            "Hello Pepcoding :  2\n",
            "\n",
            "\n",
            "Hello Pepcoding :  1\n",
            "Hello Pepcoding :  2\n",
            "Hello Pepcoding :  4\n",
            "Hello Pepcoding :  5\n"
          ]
        }
      ]
    },
    {
      "cell_type": "code",
      "source": [
        "# while-else loop\n",
        "\n",
        "i = 1\n",
        "while i <= 5 :\n",
        "  print(\"Hello Pepcoding : \", i)\n",
        "  i += 1\n",
        "else :\n",
        "  print(\"No break found\")\n",
        "\n",
        "\n",
        "print(\"\\n\")\n",
        "\n",
        "i = 1\n",
        "while i <= 5 :\n",
        "  if i == 3 :\n",
        "    break\n",
        "  print(\"Hello Pepcoding : \", i)\n",
        "  i += 1\n",
        "else :\n",
        "  print(\"No break found\")"
      ],
      "metadata": {
        "colab": {
          "base_uri": "https://localhost:8080/"
        },
        "id": "BzsGoXT0BM9-",
        "outputId": "584713c5-5a23-405c-c63d-35f3429423e8"
      },
      "execution_count": 8,
      "outputs": [
        {
          "output_type": "stream",
          "name": "stdout",
          "text": [
            "Hello Pepcoding :  1\n",
            "Hello Pepcoding :  2\n",
            "Hello Pepcoding :  3\n",
            "Hello Pepcoding :  4\n",
            "Hello Pepcoding :  5\n",
            "No break found\n",
            "\n",
            "\n",
            "Hello Pepcoding :  1\n",
            "Hello Pepcoding :  2\n"
          ]
        }
      ]
    },
    {
      "cell_type": "code",
      "source": [
        "# for loop\n",
        "\n",
        "print(\"Hard code method! \\n\")\n",
        "\n",
        "print(\"Hello Pepcoding\")\n",
        "print(\"Hello Pepcoding\")\n",
        "print(\"Hello Pepcoding\")\n",
        "print(\"Hello Pepcoding\")\n",
        "print(\"Hello Pepcoding\")\n",
        "\n",
        "print(\"\\n\\n\")\n",
        "\n",
        "print(\"For loop method! \\n\")\n",
        "\n",
        "for i in range(5):\n",
        "  print(\"Hello Pepcoding\")\n"
      ],
      "metadata": {
        "colab": {
          "base_uri": "https://localhost:8080/"
        },
        "id": "ZrLu5ZZiE0cd",
        "outputId": "cbffd324-6155-4c94-d47d-42e73bbf7054"
      },
      "execution_count": 14,
      "outputs": [
        {
          "output_type": "stream",
          "name": "stdout",
          "text": [
            "Hard code method! \n",
            "\n",
            "Hello Pepcoding\n",
            "Hello Pepcoding\n",
            "Hello Pepcoding\n",
            "Hello Pepcoding\n",
            "Hello Pepcoding\n",
            "\n",
            "\n",
            "\n",
            "For loop method! \n",
            "\n",
            "Hello Pepcoding\n",
            "Hello Pepcoding\n",
            "Hello Pepcoding\n",
            "Hello Pepcoding\n",
            "Hello Pepcoding\n"
          ]
        }
      ]
    },
    {
      "cell_type": "code",
      "source": [
        "# for-else loop\n",
        "\n",
        "for i in range(5) :\n",
        "  print(\"Hello Pepcoding : \", i)\n",
        "else :\n",
        "  print(\"No break found\")\n",
        "\n",
        "\n",
        "print(\"\\n\")\n",
        "\n",
        "for i in range(5):\n",
        "  if i == 3 :\n",
        "    break\n",
        "  print(\"Hello Pepcoding : \", i)\n",
        "else :\n",
        "  print(\"No break found\")"
      ],
      "metadata": {
        "colab": {
          "base_uri": "https://localhost:8080/"
        },
        "id": "vLaeDHy4HvBe",
        "outputId": "f0b864ef-a48d-4edb-ec3a-a29aa8a1f340"
      },
      "execution_count": 15,
      "outputs": [
        {
          "output_type": "stream",
          "name": "stdout",
          "text": [
            "Hello Pepcoding :  0\n",
            "Hello Pepcoding :  1\n",
            "Hello Pepcoding :  2\n",
            "Hello Pepcoding :  3\n",
            "Hello Pepcoding :  4\n",
            "No break found\n",
            "\n",
            "\n",
            "Hello Pepcoding :  0\n",
            "Hello Pepcoding :  1\n",
            "Hello Pepcoding :  2\n"
          ]
        }
      ]
    },
    {
      "cell_type": "code",
      "source": [
        ""
      ],
      "metadata": {
        "id": "vxJzQB-dIUK5"
      },
      "execution_count": null,
      "outputs": []
    }
  ]
}