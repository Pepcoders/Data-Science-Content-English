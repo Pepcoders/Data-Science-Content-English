{
  "nbformat": 4,
  "nbformat_minor": 0,
  "metadata": {
    "colab": {
      "name": "Functions_Advanced_English.ipynb",
      "provenance": [],
      "authorship_tag": "ABX9TyP1JxDzTiFDMpsL+bYY8CWG",
      "include_colab_link": true
    },
    "kernelspec": {
      "name": "python3",
      "display_name": "Python 3"
    },
    "language_info": {
      "name": "python"
    }
  },
  "cells": [
    {
      "cell_type": "markdown",
      "metadata": {
        "id": "view-in-github",
        "colab_type": "text"
      },
      "source": [
        "<a href=\"https://colab.research.google.com/github/Pepcoders/Data-Science-Content-English/blob/Python%2FRitikRamuka/Python/Functions_Advanced_English.ipynb\" target=\"_parent\"><img src=\"https://colab.research.google.com/assets/colab-badge.svg\" alt=\"Open In Colab\"/></a>"
      ]
    },
    {
      "cell_type": "code",
      "execution_count": 1,
      "metadata": {
        "colab": {
          "base_uri": "https://localhost:8080/"
        },
        "id": "sBjrT3cPVTjt",
        "outputId": "23863919-b98c-4ad3-a8df-e92724d20099"
      },
      "outputs": [
        {
          "output_type": "stream",
          "name": "stdout",
          "text": [
            "60\n"
          ]
        }
      ],
      "source": [
        "# lambda func\n",
        "\n",
        "\n",
        "x = lambda a,b,c : a*b*c\n",
        "\n",
        "c = x(10,3,2)\n",
        "print(c)"
      ]
    },
    {
      "cell_type": "code",
      "source": [
        "def f(a) :\n",
        "  return lambda n : n*a\n",
        "\n",
        "c = f(10)\n",
        "print(c)\n",
        "\n",
        "d = c(9)\n",
        "print(d)"
      ],
      "metadata": {
        "colab": {
          "base_uri": "https://localhost:8080/"
        },
        "id": "RPEzC21KVigR",
        "outputId": "e08d21e2-3e75-4b42-bd38-51a9a2a6505a"
      },
      "execution_count": 3,
      "outputs": [
        {
          "output_type": "stream",
          "name": "stdout",
          "text": [
            "<function f.<locals>.<lambda> at 0x7f7ecbc45440>\n",
            "90\n"
          ]
        }
      ]
    },
    {
      "cell_type": "code",
      "source": [
        ""
      ],
      "metadata": {
        "id": "oxLU40dcVndS"
      },
      "execution_count": null,
      "outputs": []
    }
  ]
}