{
  "nbformat": 4,
  "nbformat_minor": 0,
  "metadata": {
    "colab": {
      "name": "Try-Except_English.ipynb",
      "provenance": [],
      "authorship_tag": "ABX9TyPoHURCLtgeGGfIKCOZyrVB",
      "include_colab_link": true
    },
    "kernelspec": {
      "name": "python3",
      "display_name": "Python 3"
    },
    "language_info": {
      "name": "python"
    }
  },
  "cells": [
    {
      "cell_type": "markdown",
      "metadata": {
        "id": "view-in-github",
        "colab_type": "text"
      },
      "source": [
        "<a href=\"https://colab.research.google.com/github/Pepcoders/Data-Science-Content-English/blob/Python%2FRitikRamuka/Python/Try_Except_English.ipynb\" target=\"_parent\"><img src=\"https://colab.research.google.com/assets/colab-badge.svg\" alt=\"Open In Colab\"/></a>"
      ]
    },
    {
      "cell_type": "code",
      "execution_count": 1,
      "metadata": {
        "colab": {
          "base_uri": "https://localhost:8080/",
          "height": 158
        },
        "id": "L_TWHoqkJ1bt",
        "outputId": "f01bb5bf-268d-438e-ec1c-22e2b44e5b88"
      },
      "outputs": [
        {
          "output_type": "error",
          "ename": "ZeroDivisionError",
          "evalue": "ignored",
          "traceback": [
            "\u001b[0;31m---------------------------------------------------------------------------\u001b[0m",
            "\u001b[0;31mZeroDivisionError\u001b[0m                         Traceback (most recent call last)",
            "\u001b[0;32m<ipython-input-1-0106664d39e8>\u001b[0m in \u001b[0;36m<module>\u001b[0;34m()\u001b[0m\n\u001b[0;32m----> 1\u001b[0;31m \u001b[0;36m5\u001b[0m\u001b[0;34m/\u001b[0m\u001b[0;36m0\u001b[0m\u001b[0;34m\u001b[0m\u001b[0;34m\u001b[0m\u001b[0m\n\u001b[0m",
            "\u001b[0;31mZeroDivisionError\u001b[0m: division by zero"
          ]
        }
      ],
      "source": [
        "5/0"
      ]
    },
    {
      "cell_type": "code",
      "source": [
        "a,b = 5,0\n",
        "try:\n",
        "  test = \"Hello Peter Parker\"\n",
        "  print(pepcoding)\n",
        "except ZeroDivisionError:\n",
        "  print(\"Division by zero happened\")\n",
        "except NameError:\n",
        "  print(\"NameError Came\")\n",
        "except:\n",
        "  print(\"Other Exception came\")\n",
        "else:\n",
        "  print(\"Else Block Printed\")\n",
        "\n",
        "\n",
        "print(\"Hello World\")"
      ],
      "metadata": {
        "id": "s0sTbGIIMV4v"
      },
      "execution_count": null,
      "outputs": []
    },
    {
      "cell_type": "code",
      "source": [
        "test = \"Hello Peter Parker\"\n",
        "print(Pepcoding)"
      ],
      "metadata": {
        "colab": {
          "base_uri": "https://localhost:8080/",
          "height": 175
        },
        "id": "ML4pnmghMbk6",
        "outputId": "6c3b8782-6c30-49e7-8e81-52e4c588f14d"
      },
      "execution_count": 2,
      "outputs": [
        {
          "output_type": "error",
          "ename": "NameError",
          "evalue": "ignored",
          "traceback": [
            "\u001b[0;31m---------------------------------------------------------------------------\u001b[0m",
            "\u001b[0;31mNameError\u001b[0m                                 Traceback (most recent call last)",
            "\u001b[0;32m<ipython-input-2-7089108e90cd>\u001b[0m in \u001b[0;36m<module>\u001b[0;34m()\u001b[0m\n\u001b[1;32m      1\u001b[0m \u001b[0mtest\u001b[0m \u001b[0;34m=\u001b[0m \u001b[0;34m\"Hello Peter Parker\"\u001b[0m\u001b[0;34m\u001b[0m\u001b[0;34m\u001b[0m\u001b[0m\n\u001b[0;32m----> 2\u001b[0;31m \u001b[0mprint\u001b[0m\u001b[0;34m(\u001b[0m\u001b[0mPepcoding\u001b[0m\u001b[0;34m)\u001b[0m\u001b[0;34m\u001b[0m\u001b[0;34m\u001b[0m\u001b[0m\n\u001b[0m",
            "\u001b[0;31mNameError\u001b[0m: name 'Pepcoding' is not defined"
          ]
        }
      ]
    },
    {
      "cell_type": "code",
      "source": [
        "a,b = 5,0\n",
        "try:\n",
        "  test = \"Hello Peter Parker\"\n",
        "  print(pepcoding)\n",
        "except ZeroDivisionError:\n",
        "  print(\"Division by zero happened\")\n",
        "except NameError:\n",
        "  print(\"NameError Came\")\n",
        "except:\n",
        "  print(\"Other Exception came\")\n",
        "else:\n",
        "  print(\"Else Block Printed\")\n",
        "finally:\n",
        "  print(\"Finally Block Printed\")\n",
        "\n",
        "\n",
        "print(\"Hello World\")"
      ],
      "metadata": {
        "colab": {
          "base_uri": "https://localhost:8080/"
        },
        "id": "BbAhZcDXMegt",
        "outputId": "6e0860bc-2239-4a53-9d5f-34ffd562aef2"
      },
      "execution_count": 3,
      "outputs": [
        {
          "output_type": "stream",
          "name": "stdout",
          "text": [
            "NameError Came\n",
            "Finally Block Printed\n",
            "Hello World\n"
          ]
        }
      ]
    },
    {
      "cell_type": "code",
      "source": [
        "raise Exception(\"List is empty\")"
      ],
      "metadata": {
        "colab": {
          "base_uri": "https://localhost:8080/",
          "height": 158
        },
        "id": "pd1pRWKEMhj4",
        "outputId": "e7fc84b3-e746-4933-860e-31612c1c5ee3"
      },
      "execution_count": 4,
      "outputs": [
        {
          "output_type": "error",
          "ename": "Exception",
          "evalue": "ignored",
          "traceback": [
            "\u001b[0;31m---------------------------------------------------------------------------\u001b[0m",
            "\u001b[0;31mException\u001b[0m                                 Traceback (most recent call last)",
            "\u001b[0;32m<ipython-input-4-84d6cd2fc5bb>\u001b[0m in \u001b[0;36m<module>\u001b[0;34m()\u001b[0m\n\u001b[0;32m----> 1\u001b[0;31m \u001b[0;32mraise\u001b[0m \u001b[0mException\u001b[0m\u001b[0;34m(\u001b[0m\u001b[0;34m\"List is empty\"\u001b[0m\u001b[0;34m)\u001b[0m\u001b[0;34m\u001b[0m\u001b[0;34m\u001b[0m\u001b[0m\n\u001b[0m",
            "\u001b[0;31mException\u001b[0m: List is empty"
          ]
        }
      ]
    },
    {
      "cell_type": "code",
      "source": [
        ""
      ],
      "metadata": {
        "id": "dtwGpnqZMk7Z"
      },
      "execution_count": null,
      "outputs": []
    }
  ]
}