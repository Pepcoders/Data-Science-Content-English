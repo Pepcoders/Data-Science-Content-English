{
  "nbformat": 4,
  "nbformat_minor": 0,
  "metadata": {
    "colab": {
      "name": "GlobalVariables_English.ipynb",
      "provenance": [],
      "authorship_tag": "ABX9TyN9k2yaUuWN5TBUPNwqtsYi",
      "include_colab_link": true
    },
    "kernelspec": {
      "name": "python3",
      "display_name": "Python 3"
    },
    "language_info": {
      "name": "python"
    }
  },
  "cells": [
    {
      "cell_type": "markdown",
      "metadata": {
        "id": "view-in-github",
        "colab_type": "text"
      },
      "source": [
        "<a href=\"https://colab.research.google.com/github/Pepcoders/Data-Science-Content-English/blob/Python%2FRitikRamuka/Python/GlobalVariables_English.ipynb\" target=\"_parent\"><img src=\"https://colab.research.google.com/assets/colab-badge.svg\" alt=\"Open In Colab\"/></a>"
      ]
    },
    {
      "cell_type": "code",
      "execution_count": 1,
      "metadata": {
        "colab": {
          "base_uri": "https://localhost:8080/"
        },
        "id": "tKYHGOEKXseC",
        "outputId": "47d6a2ba-ad47-4cc2-edc1-81bf447e4682"
      },
      "outputs": [
        {
          "output_type": "stream",
          "name": "stdout",
          "text": [
            "10\n",
            "10\n"
          ]
        }
      ],
      "source": [
        "global r\n",
        "r = 10\n",
        "def fun() :\n",
        "  # r = 10\n",
        "  print(r)\n",
        "fun()\n",
        "print(r)"
      ]
    },
    {
      "cell_type": "code",
      "source": [
        ""
      ],
      "metadata": {
        "id": "i34LP2biZnUo"
      },
      "execution_count": null,
      "outputs": []
    }
  ]
}