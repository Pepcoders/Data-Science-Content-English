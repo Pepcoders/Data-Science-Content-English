{
  "nbformat": 4,
  "nbformat_minor": 0,
  "metadata": {
    "colab": {
      "name": "TypesOfVariables_English.ipynb",
      "provenance": [],
      "authorship_tag": "ABX9TyNFaIr8gWQVDvv4ecRvnZx0",
      "include_colab_link": true
    },
    "kernelspec": {
      "name": "python3",
      "display_name": "Python 3"
    },
    "language_info": {
      "name": "python"
    }
  },
  "cells": [
    {
      "cell_type": "markdown",
      "metadata": {
        "id": "view-in-github",
        "colab_type": "text"
      },
      "source": [
        "<a href=\"https://colab.research.google.com/github/Pepcoders/Data-Science-Content-English/blob/Python%2FRitikRamuka/Python/TypesOfVariables_English.ipynb\" target=\"_parent\"><img src=\"https://colab.research.google.com/assets/colab-badge.svg\" alt=\"Open In Colab\"/></a>"
      ]
    },
    {
      "cell_type": "markdown",
      "source": [
        "Python has no command to declare variables\n"
      ],
      "metadata": {
        "id": "GA1qS6Fs_S9H"
      }
    },
    {
      "cell_type": "code",
      "source": [
        "num = 10"
      ],
      "metadata": {
        "id": "9ym43OUP_Z9V"
      },
      "execution_count": null,
      "outputs": []
    },
    {
      "cell_type": "code",
      "source": [
        "string  = 'Pepcoding'"
      ],
      "metadata": {
        "id": "sq_DvzPd_jZv"
      },
      "execution_count": null,
      "outputs": []
    },
    {
      "cell_type": "code",
      "source": [
        "flt = 2.3"
      ],
      "metadata": {
        "id": "ifPN60_a_mPL"
      },
      "execution_count": null,
      "outputs": []
    },
    {
      "cell_type": "code",
      "source": [
        "#case sensitive \n",
        "\n",
        "Flt = 3.3\n",
        "print(flt)\n",
        "print(Flt)"
      ],
      "metadata": {
        "colab": {
          "base_uri": "https://localhost:8080/"
        },
        "id": "CyGFsGFd_ny7",
        "outputId": "41d3315f-c862-49ee-c07b-1f49b93610ca"
      },
      "execution_count": null,
      "outputs": [
        {
          "output_type": "stream",
          "name": "stdout",
          "text": [
            "2.3\n",
            "3.3\n"
          ]
        }
      ]
    },
    {
      "cell_type": "code",
      "source": [
        "print(type(num))"
      ],
      "metadata": {
        "colab": {
          "base_uri": "https://localhost:8080/"
        },
        "id": "X6q--RW2AFDf",
        "outputId": "febd1247-5bac-434e-e32f-59b705d6c054"
      },
      "execution_count": null,
      "outputs": [
        {
          "output_type": "stream",
          "name": "stdout",
          "text": [
            "<class 'int'>\n"
          ]
        }
      ]
    },
    {
      "cell_type": "code",
      "source": [
        "print(type(string), type(flt))"
      ],
      "metadata": {
        "colab": {
          "base_uri": "https://localhost:8080/"
        },
        "id": "aO4tEdaPAI7g",
        "outputId": "f22bd971-92dc-4c69-acf5-79fe8353d5a4"
      },
      "execution_count": null,
      "outputs": [
        {
          "output_type": "stream",
          "name": "stdout",
          "text": [
            "<class 'str'> <class 'float'>\n"
          ]
        }
      ]
    },
    {
      "cell_type": "markdown",
      "source": [
        "* A variable name must start with a letter or the underscore character\n",
        "* A variable name cannot start with a number\n",
        "* A variable name can only contain alpha-numeric characters and underscores (A-z, 0-9, and _ )\n",
        "* Variable names are case-sensitive (age, Age and AGE are three different variables)"
      ],
      "metadata": {
        "id": "EJCHVKJXAV85"
      }
    },
    {
      "cell_type": "code",
      "source": [
        "#some legal variables names\n",
        "\n",
        "pepcoding = \"pep\"\n",
        "pep9coding = \"pep\"\n",
        "_pepcoding = \"pep\"\n",
        "pepcoding1 = \"pep\"\n",
        "_pep_coding = \"pep\"\n",
        "PEPcoding = \"pep\""
      ],
      "metadata": {
        "id": "lEUNJ92jAhR-"
      },
      "execution_count": null,
      "outputs": []
    },
    {
      "cell_type": "code",
      "source": [
        "#some illegal variables names\n",
        "\n",
        "pep-coding = \"pep\"\n",
        "9pepcoding = \"pep\""
      ],
      "metadata": {
        "colab": {
          "base_uri": "https://localhost:8080/",
          "height": 125
        },
        "id": "ewLjYfQmBLLo",
        "outputId": "213890fe-27b7-4616-d030-6bfb324ed699"
      },
      "execution_count": null,
      "outputs": [
        {
          "output_type": "error",
          "ename": "SyntaxError",
          "evalue": "ignored",
          "traceback": [
            "\u001b[0;36m  File \u001b[0;32m\"<ipython-input-12-6a52d206a276>\"\u001b[0;36m, line \u001b[0;32m4\u001b[0m\n\u001b[0;31m    9pepcoding = \"pep\"\u001b[0m\n\u001b[0m             ^\u001b[0m\n\u001b[0;31mSyntaxError\u001b[0m\u001b[0;31m:\u001b[0m invalid syntax\n"
          ]
        }
      ]
    },
    {
      "cell_type": "code",
      "source": [
        "a,b,c = 10,20,30\n",
        "print(a, b, c)"
      ],
      "metadata": {
        "colab": {
          "base_uri": "https://localhost:8080/"
        },
        "id": "6e3CGOFcBhn_",
        "outputId": "7b042307-621d-4f24-cff2-b21804433f11"
      },
      "execution_count": null,
      "outputs": [
        {
          "output_type": "stream",
          "name": "stdout",
          "text": [
            "10 20 30\n"
          ]
        }
      ]
    },
    {
      "cell_type": "code",
      "source": [
        "a=b=c=50\n",
        "print(a,b,c)"
      ],
      "metadata": {
        "colab": {
          "base_uri": "https://localhost:8080/"
        },
        "id": "7j4tJlDUBrWy",
        "outputId": "ff470b12-c633-47ed-e663-61384ae5a895"
      },
      "execution_count": null,
      "outputs": [
        {
          "output_type": "stream",
          "name": "stdout",
          "text": [
            "50 50 50\n"
          ]
        }
      ]
    }
  ]
}