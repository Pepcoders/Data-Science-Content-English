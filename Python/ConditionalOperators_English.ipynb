{
  "nbformat": 4,
  "nbformat_minor": 0,
  "metadata": {
    "colab": {
      "name": "ConditionalOperators_English.ipynb",
      "provenance": [],
      "authorship_tag": "ABX9TyPFs3JKzT0pGBftguKEQE4j",
      "include_colab_link": true
    },
    "kernelspec": {
      "name": "python3",
      "display_name": "Python 3"
    },
    "language_info": {
      "name": "python"
    }
  },
  "cells": [
    {
      "cell_type": "markdown",
      "metadata": {
        "id": "view-in-github",
        "colab_type": "text"
      },
      "source": [
        "<a href=\"https://colab.research.google.com/github/Pepcoders/Data-Science-Content-English/blob/Python%2FRitikRamuka/Python/ConditionalOperators_English.ipynb\" target=\"_parent\"><img src=\"https://colab.research.google.com/assets/colab-badge.svg\" alt=\"Open In Colab\"/></a>"
      ]
    },
    {
      "cell_type": "code",
      "execution_count": 1,
      "metadata": {
        "id": "8B6Yl6gvbYyb"
      },
      "outputs": [],
      "source": [
        "# Conditions Operator"
      ]
    },
    {
      "cell_type": "code",
      "source": [
        "# if-else operator\n",
        "\n",
        "age = int(input(\"Enter your age: \"))\n",
        "\n",
        "if age >= 18 :\n",
        "  print(\"Adult\")\n",
        "\n",
        "if age < 18 :\n",
        "  print(\"Child\")\n",
        "\n",
        "if(age < 18) :\n",
        "  print(\"Child\")\n",
        "else :\n",
        "  print(\"Adult\")"
      ],
      "metadata": {
        "colab": {
          "base_uri": "https://localhost:8080/"
        },
        "id": "-q4HrTmab6PH",
        "outputId": "9db3e93d-19ef-44c6-d262-136fb8e12ced"
      },
      "execution_count": 10,
      "outputs": [
        {
          "output_type": "stream",
          "name": "stdout",
          "text": [
            "Enter your age: 12\n",
            "Child\n",
            "Child\n"
          ]
        }
      ]
    },
    {
      "cell_type": "code",
      "source": [
        "age = int(input(\"Enter your age: \"))\n",
        "\n",
        "if age >= 60 :\n",
        "  print(\"Senior\")\n",
        "elif age < 60 and age >= 18 :\n",
        "  print(\"Adult\")\n",
        "else :\n",
        "  print(\"Child\")"
      ],
      "metadata": {
        "colab": {
          "base_uri": "https://localhost:8080/"
        },
        "id": "zANmJwIjexOD",
        "outputId": "251632ff-629f-4795-d814-33855f8b86d5"
      },
      "execution_count": 12,
      "outputs": [
        {
          "output_type": "stream",
          "name": "stdout",
          "text": [
            "Enter your age: 45\n",
            "Adult\n"
          ]
        }
      ]
    },
    {
      "cell_type": "code",
      "source": [
        ""
      ],
      "metadata": {
        "id": "_P2ho04phKIv"
      },
      "execution_count": null,
      "outputs": []
    }
  ]
}